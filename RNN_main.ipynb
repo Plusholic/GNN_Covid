{
 "cells": [
  {
   "cell_type": "code",
   "execution_count": 1,
   "metadata": {},
   "outputs": [
    {
     "name": "stderr",
     "output_type": "stream",
     "text": [
      "/opt/anaconda3/envs/venvGNN/lib/python3.7/site-packages/tqdm/auto.py:22: TqdmWarning: IProgress not found. Please update jupyter and ipywidgets. See https://ipywidgets.readthedocs.io/en/stable/user_install.html\n",
      "  from .autonotebook import tqdm as notebook_tqdm\n",
      "Using TensorFlow backend.\n"
     ]
    },
    {
     "name": "stdout",
     "output_type": "stream",
     "text": [
      "/Users/jeonjunhwi/문서/Projects/Master_GNN/Code\n"
     ]
    }
   ],
   "source": [
    "import dgl # huggingface 같은 라이브러리\n",
    "import torch\n",
    "import numpy as np\n",
    "import pandas as pd\n",
    "from sklearn.preprocessing import StandardScaler\n",
    "from stgraph_trainer.datasets import *\n",
    "from stgraph_trainer.trainers import RNNTrainer\n",
    "from stgraph_trainer.utils import save_figure_predict\n",
    "from stgraph_trainer.utils import matplotlib_plot_font\n",
    "from stgraph_trainer.models import STGCN_WAVE\n",
    "\n",
    "import scipy.sparse as sp\n",
    "import torch\n",
    "import torch.nn as nn\n",
    "import torch.optim as optim\n",
    "import matplotlib.pyplot as plt\n",
    "import os\n",
    "from stgraph_trainer.models import GRU, LSTM\n",
    "print(os.getcwd())\n",
    "\n",
    "matplotlib_plot_font()\n",
    "# device = torch.device(\"mps\")\n",
    "device = torch.device(\"cpu\")\n",
    "\n",
    "\n",
    "# from matplotlib import font_manager, rc\n",
    "# font_path = '/System/Library/Fonts/AppleSDGothicNeo.ttc'\n",
    "# font = font_manager.FontProperties(fname=font_path).get_name()\n",
    "# rc('font', family = font)"
   ]
  },
  {
   "cell_type": "code",
   "execution_count": 2,
   "metadata": {},
   "outputs": [
    {
     "name": "stdout",
     "output_type": "stream",
     "text": [
      "Seed set = 42\n"
     ]
    }
   ],
   "source": [
    "def seq_data(data,sequence_length):\n",
    "    x_seq = []\n",
    "    y_seq = []\n",
    "    for i in range(len(data) - sequence_length):\n",
    "        x_seq.append(data[i:i+sequence_length])\n",
    "        y_seq.append(data[i+sequence_length])\n",
    "        # print(y_seq)\n",
    "    return torch.FloatTensor(x_seq).to(device), torch.FloatTensor(y_seq).to(device).view(-1, 1)\n",
    "\n",
    "def evaluate_metric(model, data_iter):\n",
    "    model.eval()\n",
    "    with torch.no_grad():\n",
    "        mae, mape, mse = [], [], []\n",
    "        for x, y in data_iter:\n",
    "            #y = y.cpu().numpy().reshape(-1)\n",
    "            y_pred = model(x).view(len(x), -1).cpu().numpy()#.reshape(-1)\n",
    "            d = np.abs(y - y_pred)\n",
    "            mae += d.tolist()\n",
    "            mape += (d / y).tolist()\n",
    "            mse += (d ** 2).tolist()\n",
    "        MAE = np.array(mae).mean()\n",
    "        MAPE = np.array(mape).mean()\n",
    "        RMSE = np.sqrt(np.array(mse).mean())\n",
    "        return MAE, MAPE, RMSE\n",
    "    \n",
    "def seed_everything(seed = 42):\n",
    "    import random\n",
    "    random.seed(seed)\n",
    "    os.environ['PYTHONHASHSEED'] = str(seed)\n",
    "    np.random.seed(seed)\n",
    "    torch.manual_seed(seed)\n",
    "    torch.cuda.manual_seed(seed)\n",
    "    torch.backends.cudnn.deterministic = True\n",
    "    torch.backends.cudnn.benchmark = False\n",
    "    print(f'Seed set = {seed}')\n",
    "    \n",
    "seed_everything()"
   ]
  },
  {
   "cell_type": "code",
   "execution_count": 7,
   "metadata": {},
   "outputs": [
    {
     "name": "stderr",
     "output_type": "stream",
     "text": [
      "/opt/anaconda3/envs/venvGNN/lib/python3.7/site-packages/ipykernel_launcher.py:110: UserWarning: To copy construct from a tensor, it is recommended to use sourceTensor.clone().detach() or sourceTensor.clone().detach().requires_grad_(True), rather than torch.tensor(sourceTensor).\n",
      "/opt/anaconda3/envs/venvGNN/lib/python3.7/site-packages/ipykernel_launcher.py:122: UserWarning: To copy construct from a tensor, it is recommended to use sourceTensor.clone().detach() or sourceTensor.clone().detach().requires_grad_(True), rather than torch.tensor(sourceTensor).\n"
     ]
    },
    {
     "name": "stdout",
     "output_type": "stream",
     "text": [
      "[epoch : 0] train_loss : 0.9949 val_loss : 8.9031\n",
      "[epoch : 0] train_loss : 1.0109 val_loss : 9.4628\n"
     ]
    },
    {
     "name": "stderr",
     "output_type": "stream",
     "text": [
      "/opt/anaconda3/envs/venvGNN/lib/python3.7/site-packages/ipykernel_launcher.py:110: UserWarning: To copy construct from a tensor, it is recommended to use sourceTensor.clone().detach() or sourceTensor.clone().detach().requires_grad_(True), rather than torch.tensor(sourceTensor).\n",
      "/opt/anaconda3/envs/venvGNN/lib/python3.7/site-packages/ipykernel_launcher.py:122: UserWarning: To copy construct from a tensor, it is recommended to use sourceTensor.clone().detach() or sourceTensor.clone().detach().requires_grad_(True), rather than torch.tensor(sourceTensor).\n"
     ]
    },
    {
     "name": "stdout",
     "output_type": "stream",
     "text": [
      "[epoch : 0] train_loss : 1.0047 val_loss : 10.2725\n",
      "[epoch : 0] train_loss : 1.0029 val_loss : 10.5854\n"
     ]
    },
    {
     "name": "stderr",
     "output_type": "stream",
     "text": [
      "/opt/anaconda3/envs/venvGNN/lib/python3.7/site-packages/ipykernel_launcher.py:110: UserWarning: To copy construct from a tensor, it is recommended to use sourceTensor.clone().detach() or sourceTensor.clone().detach().requires_grad_(True), rather than torch.tensor(sourceTensor).\n",
      "/opt/anaconda3/envs/venvGNN/lib/python3.7/site-packages/ipykernel_launcher.py:122: UserWarning: To copy construct from a tensor, it is recommended to use sourceTensor.clone().detach() or sourceTensor.clone().detach().requires_grad_(True), rather than torch.tensor(sourceTensor).\n"
     ]
    },
    {
     "name": "stdout",
     "output_type": "stream",
     "text": [
      "[epoch : 0] train_loss : 0.9691 val_loss : 13.6093\n",
      "[epoch : 0] train_loss : 1.0045 val_loss : 14.9934\n"
     ]
    },
    {
     "name": "stderr",
     "output_type": "stream",
     "text": [
      "/opt/anaconda3/envs/venvGNN/lib/python3.7/site-packages/ipykernel_launcher.py:110: UserWarning: To copy construct from a tensor, it is recommended to use sourceTensor.clone().detach() or sourceTensor.clone().detach().requires_grad_(True), rather than torch.tensor(sourceTensor).\n",
      "/opt/anaconda3/envs/venvGNN/lib/python3.7/site-packages/ipykernel_launcher.py:122: UserWarning: To copy construct from a tensor, it is recommended to use sourceTensor.clone().detach() or sourceTensor.clone().detach().requires_grad_(True), rather than torch.tensor(sourceTensor).\n"
     ]
    },
    {
     "name": "stdout",
     "output_type": "stream",
     "text": [
      "[epoch : 0] train_loss : 1.0100 val_loss : 6.8546\n",
      "[epoch : 0] train_loss : 1.0055 val_loss : 6.9137\n"
     ]
    },
    {
     "name": "stderr",
     "output_type": "stream",
     "text": [
      "/opt/anaconda3/envs/venvGNN/lib/python3.7/site-packages/ipykernel_launcher.py:110: UserWarning: To copy construct from a tensor, it is recommended to use sourceTensor.clone().detach() or sourceTensor.clone().detach().requires_grad_(True), rather than torch.tensor(sourceTensor).\n",
      "/opt/anaconda3/envs/venvGNN/lib/python3.7/site-packages/ipykernel_launcher.py:122: UserWarning: To copy construct from a tensor, it is recommended to use sourceTensor.clone().detach() or sourceTensor.clone().detach().requires_grad_(True), rather than torch.tensor(sourceTensor).\n"
     ]
    },
    {
     "name": "stdout",
     "output_type": "stream",
     "text": [
      "[epoch : 0] train_loss : 1.0205 val_loss : 0.9598\n",
      "[epoch : 0] train_loss : 1.0165 val_loss : 0.9733\n"
     ]
    },
    {
     "name": "stderr",
     "output_type": "stream",
     "text": [
      "/opt/anaconda3/envs/venvGNN/lib/python3.7/site-packages/ipykernel_launcher.py:110: UserWarning: To copy construct from a tensor, it is recommended to use sourceTensor.clone().detach() or sourceTensor.clone().detach().requires_grad_(True), rather than torch.tensor(sourceTensor).\n",
      "/opt/anaconda3/envs/venvGNN/lib/python3.7/site-packages/ipykernel_launcher.py:122: UserWarning: To copy construct from a tensor, it is recommended to use sourceTensor.clone().detach() or sourceTensor.clone().detach().requires_grad_(True), rather than torch.tensor(sourceTensor).\n"
     ]
    },
    {
     "name": "stdout",
     "output_type": "stream",
     "text": [
      "[epoch : 0] train_loss : 0.9955 val_loss : 5.5597\n",
      "[epoch : 0] train_loss : 1.0189 val_loss : 5.7312\n"
     ]
    },
    {
     "name": "stderr",
     "output_type": "stream",
     "text": [
      "/opt/anaconda3/envs/venvGNN/lib/python3.7/site-packages/ipykernel_launcher.py:110: UserWarning: To copy construct from a tensor, it is recommended to use sourceTensor.clone().detach() or sourceTensor.clone().detach().requires_grad_(True), rather than torch.tensor(sourceTensor).\n",
      "/opt/anaconda3/envs/venvGNN/lib/python3.7/site-packages/ipykernel_launcher.py:122: UserWarning: To copy construct from a tensor, it is recommended to use sourceTensor.clone().detach() or sourceTensor.clone().detach().requires_grad_(True), rather than torch.tensor(sourceTensor).\n"
     ]
    },
    {
     "name": "stdout",
     "output_type": "stream",
     "text": [
      "[epoch : 0] train_loss : 1.0109 val_loss : 12.1992\n",
      "[epoch : 0] train_loss : 1.0101 val_loss : 12.3300\n"
     ]
    },
    {
     "name": "stderr",
     "output_type": "stream",
     "text": [
      "/opt/anaconda3/envs/venvGNN/lib/python3.7/site-packages/ipykernel_launcher.py:110: UserWarning: To copy construct from a tensor, it is recommended to use sourceTensor.clone().detach() or sourceTensor.clone().detach().requires_grad_(True), rather than torch.tensor(sourceTensor).\n",
      "/opt/anaconda3/envs/venvGNN/lib/python3.7/site-packages/ipykernel_launcher.py:122: UserWarning: To copy construct from a tensor, it is recommended to use sourceTensor.clone().detach() or sourceTensor.clone().detach().requires_grad_(True), rather than torch.tensor(sourceTensor).\n"
     ]
    },
    {
     "name": "stdout",
     "output_type": "stream",
     "text": [
      "[epoch : 0] train_loss : 1.0190 val_loss : 8.6881\n",
      "[epoch : 0] train_loss : 1.0022 val_loss : 8.8047\n"
     ]
    },
    {
     "name": "stderr",
     "output_type": "stream",
     "text": [
      "/opt/anaconda3/envs/venvGNN/lib/python3.7/site-packages/ipykernel_launcher.py:110: UserWarning: To copy construct from a tensor, it is recommended to use sourceTensor.clone().detach() or sourceTensor.clone().detach().requires_grad_(True), rather than torch.tensor(sourceTensor).\n",
      "/opt/anaconda3/envs/venvGNN/lib/python3.7/site-packages/ipykernel_launcher.py:122: UserWarning: To copy construct from a tensor, it is recommended to use sourceTensor.clone().detach() or sourceTensor.clone().detach().requires_grad_(True), rather than torch.tensor(sourceTensor).\n"
     ]
    },
    {
     "name": "stdout",
     "output_type": "stream",
     "text": [
      "[epoch : 0] train_loss : 1.0072 val_loss : 7.1608\n",
      "[epoch : 0] train_loss : 1.0153 val_loss : 7.1871\n"
     ]
    },
    {
     "name": "stderr",
     "output_type": "stream",
     "text": [
      "/opt/anaconda3/envs/venvGNN/lib/python3.7/site-packages/ipykernel_launcher.py:110: UserWarning: To copy construct from a tensor, it is recommended to use sourceTensor.clone().detach() or sourceTensor.clone().detach().requires_grad_(True), rather than torch.tensor(sourceTensor).\n",
      "/opt/anaconda3/envs/venvGNN/lib/python3.7/site-packages/ipykernel_launcher.py:122: UserWarning: To copy construct from a tensor, it is recommended to use sourceTensor.clone().detach() or sourceTensor.clone().detach().requires_grad_(True), rather than torch.tensor(sourceTensor).\n"
     ]
    },
    {
     "name": "stdout",
     "output_type": "stream",
     "text": [
      "[epoch : 0] train_loss : 1.0100 val_loss : 5.0458\n",
      "[epoch : 0] train_loss : 1.0164 val_loss : 5.1554\n"
     ]
    },
    {
     "name": "stderr",
     "output_type": "stream",
     "text": [
      "/opt/anaconda3/envs/venvGNN/lib/python3.7/site-packages/ipykernel_launcher.py:110: UserWarning: To copy construct from a tensor, it is recommended to use sourceTensor.clone().detach() or sourceTensor.clone().detach().requires_grad_(True), rather than torch.tensor(sourceTensor).\n",
      "/opt/anaconda3/envs/venvGNN/lib/python3.7/site-packages/ipykernel_launcher.py:122: UserWarning: To copy construct from a tensor, it is recommended to use sourceTensor.clone().detach() or sourceTensor.clone().detach().requires_grad_(True), rather than torch.tensor(sourceTensor).\n"
     ]
    },
    {
     "name": "stdout",
     "output_type": "stream",
     "text": [
      "[epoch : 0] train_loss : 1.0020 val_loss : 5.2704\n",
      "[epoch : 0] train_loss : 1.0251 val_loss : 5.3274\n"
     ]
    },
    {
     "name": "stderr",
     "output_type": "stream",
     "text": [
      "/opt/anaconda3/envs/venvGNN/lib/python3.7/site-packages/ipykernel_launcher.py:110: UserWarning: To copy construct from a tensor, it is recommended to use sourceTensor.clone().detach() or sourceTensor.clone().detach().requires_grad_(True), rather than torch.tensor(sourceTensor).\n",
      "/opt/anaconda3/envs/venvGNN/lib/python3.7/site-packages/ipykernel_launcher.py:122: UserWarning: To copy construct from a tensor, it is recommended to use sourceTensor.clone().detach() or sourceTensor.clone().detach().requires_grad_(True), rather than torch.tensor(sourceTensor).\n"
     ]
    },
    {
     "name": "stdout",
     "output_type": "stream",
     "text": [
      "[epoch : 0] train_loss : 1.0047 val_loss : 3.7075\n",
      "[epoch : 0] train_loss : 1.0152 val_loss : 3.7723\n"
     ]
    },
    {
     "name": "stderr",
     "output_type": "stream",
     "text": [
      "/opt/anaconda3/envs/venvGNN/lib/python3.7/site-packages/ipykernel_launcher.py:110: UserWarning: To copy construct from a tensor, it is recommended to use sourceTensor.clone().detach() or sourceTensor.clone().detach().requires_grad_(True), rather than torch.tensor(sourceTensor).\n",
      "/opt/anaconda3/envs/venvGNN/lib/python3.7/site-packages/ipykernel_launcher.py:122: UserWarning: To copy construct from a tensor, it is recommended to use sourceTensor.clone().detach() or sourceTensor.clone().detach().requires_grad_(True), rather than torch.tensor(sourceTensor).\n"
     ]
    },
    {
     "name": "stdout",
     "output_type": "stream",
     "text": [
      "[epoch : 0] train_loss : 0.9991 val_loss : 4.1647\n",
      "[epoch : 0] train_loss : 1.0115 val_loss : 4.3466\n"
     ]
    },
    {
     "name": "stderr",
     "output_type": "stream",
     "text": [
      "/opt/anaconda3/envs/venvGNN/lib/python3.7/site-packages/ipykernel_launcher.py:110: UserWarning: To copy construct from a tensor, it is recommended to use sourceTensor.clone().detach() or sourceTensor.clone().detach().requires_grad_(True), rather than torch.tensor(sourceTensor).\n",
      "/opt/anaconda3/envs/venvGNN/lib/python3.7/site-packages/ipykernel_launcher.py:122: UserWarning: To copy construct from a tensor, it is recommended to use sourceTensor.clone().detach() or sourceTensor.clone().detach().requires_grad_(True), rather than torch.tensor(sourceTensor).\n"
     ]
    },
    {
     "name": "stdout",
     "output_type": "stream",
     "text": [
      "[epoch : 0] train_loss : 0.9987 val_loss : 2.3817\n",
      "[epoch : 0] train_loss : 1.0179 val_loss : 2.4836\n"
     ]
    },
    {
     "name": "stderr",
     "output_type": "stream",
     "text": [
      "/opt/anaconda3/envs/venvGNN/lib/python3.7/site-packages/ipykernel_launcher.py:110: UserWarning: To copy construct from a tensor, it is recommended to use sourceTensor.clone().detach() or sourceTensor.clone().detach().requires_grad_(True), rather than torch.tensor(sourceTensor).\n",
      "/opt/anaconda3/envs/venvGNN/lib/python3.7/site-packages/ipykernel_launcher.py:122: UserWarning: To copy construct from a tensor, it is recommended to use sourceTensor.clone().detach() or sourceTensor.clone().detach().requires_grad_(True), rather than torch.tensor(sourceTensor).\n"
     ]
    },
    {
     "name": "stdout",
     "output_type": "stream",
     "text": [
      "[epoch : 0] train_loss : 1.0033 val_loss : 2.2528\n",
      "[epoch : 0] train_loss : 1.0142 val_loss : 2.2863\n"
     ]
    },
    {
     "name": "stderr",
     "output_type": "stream",
     "text": [
      "/opt/anaconda3/envs/venvGNN/lib/python3.7/site-packages/ipykernel_launcher.py:110: UserWarning: To copy construct from a tensor, it is recommended to use sourceTensor.clone().detach() or sourceTensor.clone().detach().requires_grad_(True), rather than torch.tensor(sourceTensor).\n",
      "/opt/anaconda3/envs/venvGNN/lib/python3.7/site-packages/ipykernel_launcher.py:122: UserWarning: To copy construct from a tensor, it is recommended to use sourceTensor.clone().detach() or sourceTensor.clone().detach().requires_grad_(True), rather than torch.tensor(sourceTensor).\n"
     ]
    },
    {
     "name": "stdout",
     "output_type": "stream",
     "text": [
      "[epoch : 0] train_loss : 0.9905 val_loss : 1.3156\n",
      "[epoch : 0] train_loss : 1.0079 val_loss : 1.3688\n"
     ]
    },
    {
     "name": "stderr",
     "output_type": "stream",
     "text": [
      "/opt/anaconda3/envs/venvGNN/lib/python3.7/site-packages/ipykernel_launcher.py:110: UserWarning: To copy construct from a tensor, it is recommended to use sourceTensor.clone().detach() or sourceTensor.clone().detach().requires_grad_(True), rather than torch.tensor(sourceTensor).\n",
      "/opt/anaconda3/envs/venvGNN/lib/python3.7/site-packages/ipykernel_launcher.py:122: UserWarning: To copy construct from a tensor, it is recommended to use sourceTensor.clone().detach() or sourceTensor.clone().detach().requires_grad_(True), rather than torch.tensor(sourceTensor).\n"
     ]
    },
    {
     "name": "stdout",
     "output_type": "stream",
     "text": [
      "[epoch : 0] train_loss : 1.0143 val_loss : 3.9828\n",
      "[epoch : 0] train_loss : 1.0117 val_loss : 4.0465\n"
     ]
    },
    {
     "data": {
      "image/png": "[encoded data removed]",
      "text/plain": [
       "<Figure size 1800x1080 with 17 Axes>"
      ]
     },
     "metadata": {},
     "output_type": "display_data"
    }
   ],
   "source": [
    "##################\n",
    "## Load Dataset ##\n",
    "##################\n",
    "\n",
    "region_type = 'state'\n",
    "df2 = pd.read_csv(f'/Users/jeonjunhwi/문서/Projects/Master_GNN/Data/KCDC_data/Processing_Results/smoothing_3_{region_type}_mean.csv', index_col=0, encoding='cp949')\n",
    "\n",
    "df = df2.iloc[100:686] # 12월 까지만 해보자\n",
    "df2 = df2.iloc[100:686] # 아래쪽 plot을 위해서 저장해준 원래부분, 깔끔하게 바꾸자\n",
    "\n",
    "df = df.diff()\n",
    "df = df.iloc[1:, :]\n",
    "\n",
    "\n",
    "### 컬럼을 숫자로 바꿔줌 ###\n",
    "# region_dict = {}\n",
    "# for i, region in enumerate(df.columns):\n",
    "#     region_dict[i] = region\n",
    "# df.columns = list(region_dict.keys())\n",
    "\n",
    "############################################\n",
    "## train, test, validation length setting ##\n",
    "############################################\n",
    "\n",
    "len_val = int(df.shape[0] * 0.2)\n",
    "len_test = 19\n",
    "len_train = df.shape[0] - len_val - len_test\n",
    "\n",
    "train = df.iloc[: len_train,:]\n",
    "val = df.iloc[len_train: len_train + len_val,:]\n",
    "test = df.iloc[len_train + len_val:len_train + len_val + len_test,:]\n",
    "\n",
    "save_GRU = pd.DataFrame({})\n",
    "save_LSTM = pd.DataFrame({})\n",
    "fig = plt.figure(figsize=(25,15), facecolor='white')\n",
    "true_df2 = []\n",
    "pred_1_list = []\n",
    "pred_2_list = []\n",
    "\n",
    "############################\n",
    "## Hyperparameter Setting ##\n",
    "############################\n",
    "\n",
    "suptitle_1 = 'Standard Scaler, GRU'\n",
    "suptitle_2 = 'Standard Scaler, LSTM'\n",
    "epochs = 50\n",
    "batch_size = 16\n",
    "num_layers = 2\n",
    "hidden_size = 32\n",
    "output_size = 32\n",
    "sequence_length = 5\n",
    "learning_rate = 1e-3\n",
    "criterion = nn.MSELoss()\n",
    "\n",
    "# for i in [0]:\n",
    "for i, region in enumerate(df.columns):\n",
    "    \n",
    "    #######################\n",
    "    ## Define DataLoader ##\n",
    "    #######################\n",
    "    \n",
    "    train = df[[region]][:len_train]\n",
    "    val = df[[region]][ len_train: len_train + len_val]\n",
    "    test = df[[region]][ len_train + len_val:]\n",
    "    \n",
    "    scaler = StandardScaler()\n",
    "\n",
    "    train = scaler.fit_transform(train)\n",
    "    val = scaler.transform(val)\n",
    "    test = scaler.transform(test)\n",
    "\n",
    "    x_train_seq, y_train_seq = seq_data(train, sequence_length)\n",
    "    x_val_seq, y_val_seq = seq_data(val, sequence_length)\n",
    "    x_test_seq, y_test_seq = seq_data(test, sequence_length)\n",
    "\n",
    "    train_torch = torch.utils.data.TensorDataset(x_train_seq, y_train_seq)\n",
    "    val_torch = torch.utils.data.TensorDataset(x_val_seq, y_val_seq)\n",
    "    test_torch = torch.utils.data.TensorDataset(x_test_seq, y_test_seq)\n",
    "    \n",
    "    train_loader = torch.utils.data.DataLoader(dataset=train_torch, batch_size=batch_size, shuffle=True)\n",
    "    val_loader = torch.utils.data.DataLoader(dataset=val_torch, batch_size=batch_size, shuffle=False)\n",
    "    test_loader = torch.utils.data.DataLoader(dataset=test_torch, batch_size=batch_size, shuffle=False)\n",
    "\n",
    "    save_path_1 = f\"save_model/gru_smooth_3_{suptitle_1}_{i}.pt\"\n",
    "    save_path_2 = f\"save_model/lstm_smooth_3_{suptitle_2}_{i}.pt\"\n",
    "    \n",
    "    ############################\n",
    "    ## Define Model and Train ##\n",
    "    ############################\n",
    "    \n",
    "    model_1 = GRU(input_size = x_train_seq.size(2), # x_train_seq.size() : [train_days, time_steps, channel]\n",
    "                    hidden_size = hidden_size,\n",
    "                    sequence_length = sequence_length,\n",
    "                    num_layers = num_layers,\n",
    "                    device = device).to(device)\n",
    "    \n",
    "    model_2 = LSTM(input_size = x_train_seq.size(2),\n",
    "                    hidden_size = hidden_size,\n",
    "                    sequence_length = sequence_length,\n",
    "                    num_layers = num_layers,\n",
    "                    device = device).to(device)\n",
    "    \n",
    "    optimizer_1 = optim.Adam(model_1.parameters(), lr=learning_rate)\n",
    "    optimizer_2 = optim.Adam(model_2.parameters(), lr=learning_rate)\n",
    "    \n",
    "    trainer_1 = RNNTrainer(model=model_1,\n",
    "                        train_loader=train_loader,\n",
    "                        val_loader=val_loader,\n",
    "                        # test_loader=test_loader,\n",
    "                        test_loader=torch.tensor(x_test_seq, dtype=torch.float32), # x_test\n",
    "                        loss=criterion,\n",
    "                        optimizer=optimizer_1,\n",
    "                        scaler=scaler,\n",
    "                        device=device,\n",
    "                        save_path=save_path_1,\n",
    "                        raw_test=df2.iloc[-(len_test + 1)+ sequence_length:,i].values)\n",
    "\n",
    "    trainer_2 = RNNTrainer(model=model_2,\n",
    "                        train_loader=train_loader,\n",
    "                        val_loader=val_loader,\n",
    "                        # test_loader=test_loader,\n",
    "                        test_loader=torch.tensor(x_test_seq, dtype=torch.float32), # x_test\n",
    "                        loss=criterion,\n",
    "                        optimizer=optimizer_2,\n",
    "                        scaler=scaler,\n",
    "                        device=device,\n",
    "                        save_path=save_path_2,\n",
    "                        raw_test=df2.iloc[-(len_test + 1)+ sequence_length:,i].values)\n",
    "    \n",
    "    val_loss_1, epoch_1 = trainer_1.train(epochs)\n",
    "    val_loss_2, epoch_2 = trainer_2.train(epochs)\n",
    "    pred_1 = trainer_1.predict(df.shape[1])\n",
    "    pred_2 = trainer_2.predict(df.shape[1])\n",
    "\n",
    "    #######################\n",
    "    ## Calculate Metrics ##\n",
    "    #######################\n",
    "    \n",
    "    true_df2+= df2.iloc[-len_test + sequence_length:,i].tolist()\n",
    "    pred_1_list += list(pred_1)\n",
    "    pred_2_list += list(pred_2)\n",
    "    \n",
    "    # df2를 다 머지하고, pred_1도 다 머지하고\n",
    "    from stgraph_trainer.utils import compute_metrics\n",
    "    RMSE_GRU, RMSE_total_GRU = compute_metrics(df2.iloc[-len_test + sequence_length:,i], pred_1, metric='rmse')\n",
    "    MAE_GRU, MAE_total_GRU = compute_metrics(df2.iloc[-len_test + sequence_length:,i], pred_1, metric='mae')\n",
    "    MAPE_GRU, MAPE_total_GRU = compute_metrics(df2.iloc[-len_test + sequence_length:,i], pred_1, metric='mape')\n",
    "    \n",
    "    RMSE_LSTM, RMSE_total_LSTM = compute_metrics(df2.iloc[-len_test + sequence_length:,i], pred_2, metric='rmse')\n",
    "    MAE_LSTM, MAE_total_LSTM = compute_metrics(df2.iloc[-len_test + sequence_length:,i], pred_2, metric='mae')\n",
    "    MAPE_LSTM, MAPE_total_LSTM = compute_metrics(df2.iloc[-len_test + sequence_length:,i], pred_2, metric='mape')\n",
    "    \n",
    "    ##########################\n",
    "    ## Original Data Figure ##\n",
    "    ##########################\n",
    "\n",
    "    save_GRU[region] = pred_1\n",
    "    save_LSTM[region] = pred_2\n",
    "        \n",
    "    # ax1 = fig.add_subplot(4,5,int(i)+1)\n",
    "    \n",
    "    \n",
    "\n",
    "    # for num in range(ceil(y_pred.shape[1]/20)):\n",
    "    # fig = plt.figure(figsize=(25,15), facecolor='white')\n",
    "    \n",
    "    # 20개 이상인 지역들을 다른 figure에 plot 하기 위해 범위를 나눠줌\n",
    "    # if i == 0: # city\n",
    "    if i == 1: # state\n",
    "        range_ = range(20)\n",
    "    elif 20*(i+1) > len(df.columns): # 마지막이 20의 배수보다 작으면\n",
    "        range_ = range(20*i, len(df.columns))\n",
    "    else:\n",
    "        range_ = range(20*i, 20*(i+1))\n",
    "    # print(y_pred.shape[1])\n",
    "    # for j in range_: # 17 도시에 대해서 각 도, 66개 수도권 시군구에 대해서 시군구\n",
    "    if i<20:\n",
    "        ax1 = fig.add_subplot(4,5,i+1)\n",
    "    elif i<40:\n",
    "        ax1 = fig.add_subplot(4,5,i-19)\n",
    "    elif i<60:\n",
    "        ax1 = fig.add_subplot(4,5,i-39)\n",
    "    elif i<80:\n",
    "        ax1 = fig.add_subplot(4,5,i-59)\n",
    "    elif i<100:\n",
    "        ax1 = fig.add_subplot(4,5,i-79)\n",
    "    elif i<120:\n",
    "        ax1 = fig.add_subplot(4,5,i-99)\n",
    "    elif i<140:\n",
    "        ax1 = fig.add_subplot(4,5,i-119)\n",
    "    elif i<160:\n",
    "        ax1 = fig.add_subplot(4,5,i-139)\n",
    "    elif i<180:\n",
    "        ax1 = fig.add_subplot(4,5,i-159)\n",
    "    elif i<200:\n",
    "        ax1 = fig.add_subplot(4,5,i-179)\n",
    "    elif i<220:\n",
    "        ax1 = fig.add_subplot(4,5,i-199)\n",
    "    elif i<240:\n",
    "        ax1 = fig.add_subplot(4,5,i-219)\n",
    "    \n",
    "    \n",
    "    \n",
    "        ax1.plot(df2.iloc[-len_test + sequence_length:,i].values,'--')\n",
    "        ax1.plot(pred_1,'b',linewidth=0.6)\n",
    "        ax1.plot(pred_2,'k',linewidth=0.6)\n",
    "        ax1.legend(['actual', 'GRU', 'LSTM'])\n",
    "        \n",
    "        xlabels = [i[5:] for i in list(df2.index[-len_test + sequence_length:])]\n",
    "        ax1.set_xticks(ticks = [i for i in range(len(xlabels))], labels = xlabels, rotation=90)\n",
    "        yticks_ = ax1.get_yticks()\n",
    "        ax1.set_yticks(yticks_, fontsize = 15)\n",
    "        \n",
    "        # title_ = f\"{region} \\n MAE: {MAE_GRU.item():.4f},RMSE: {RMSE_GRU.item():.4f}, gru_loss: {val_loss_1:.4f}, gru_epoch : {epoch_1} \\n MAE: {MAE_LSTM.item():.4f},RMSE: {RMSE_LSTM.item():.4f}, gru_loss: {val_loss_1:.4f}, gru_epoch : {epoch_1}\"\n",
    "        title_ = 'Region : {} \\n GRU, MAE : {:.4f}, RMSE : {:.4f}, loss : {:.4f}, epoch : {:.4f} \\n  LSTM, MAE : {:.4f}, RMSE : {:.4f}, loss : {:.4f}, epoch : {:.4f}'\n",
    "        title_ = title_.format(region,\n",
    "                            MAE_GRU.item(),RMSE_GRU.item(),val_loss_1,epoch_1,\n",
    "                            MAE_LSTM.item(),RMSE_LSTM.item(),val_loss_2,epoch_2\n",
    "                            )\n",
    "        ax1.set_title(title_ ,fontsize = 13)\n",
    "    \n",
    "\n",
    "#################\n",
    "## Save Figure ##\n",
    "#################\n",
    "true_df2 = np.array(true_df2).reshape(-1,)\n",
    "pred_1_list = np.array(pred_1_list).reshape(-1,)\n",
    "pred_2_list = np.array(pred_2_list).reshape(-1,)\n",
    "\n",
    "_, RMSE_avg_GRU = compute_metrics(true_df2, pred_1_list, metric='rmse')\n",
    "_, MAE_avg_GRU = compute_metrics(true_df2, pred_1_list, metric='mae')\n",
    "_, MAPE_avg_GRU = compute_metrics(true_df2, pred_1_list, metric='mape')\n",
    "\n",
    "_, RMSE_avg_LSTM = compute_metrics(true_df2, pred_2_list, metric='rmse')\n",
    "_, MAE_avg_LSTM = compute_metrics(true_df2, pred_2_list, metric='mae')\n",
    "_, MAPE_avg_LSTM = compute_metrics(true_df2, pred_2_list, metric='mape')\n",
    "\n",
    "suptitle = f\"MAE : {MAE_avg_GRU:.4f}, MAPE : {MAPE_avg_GRU:.4f}, RMSE : {RMSE_avg_GRU:.4f} \\n MAE : {MAE_avg_LSTM:.4f}, MAPE : {MAPE_avg_LSTM:.4f}, RMSE : {RMSE_avg_LSTM:.4f}\"\n",
    "fig.suptitle(suptitle, fontsize=30)\n",
    "fig.tight_layout()\n",
    "fig.savefig(f'Result/Figures/compare_rnn_original_{region_type}.png')\n",
    "\n",
    "#####################\n",
    "## Save Prediction ##\n",
    "#####################\n",
    "\n",
    "save_GRU['신고일'] = df2.index[-len_test + sequence_length:]\n",
    "save_GRU.set_index('신고일', inplace=True)\n",
    "save_GRU.to_csv(f'Result/pred/pred_GRU_{region_type}.csv', encoding='cp949')\n",
    "save_LSTM['신고일'] = df2.index[-len_test + sequence_length:]\n",
    "save_LSTM.set_index('신고일', inplace=True)\n",
    "save_LSTM.to_csv(f'Result/pred/pred_LSTM_{region_type}.csv', encoding='cp949')"
   ]
  },
  {
   "cell_type": "code",
   "execution_count": null,
   "metadata": {},
   "outputs": [],
   "source": []
  }
 ],
 "metadata": {
  "kernelspec": {
   "display_name": "Python 3.7.13 ('venvGNN')",
   "language": "python",
   "name": "python3"
  },
  "language_info": {
   "codemirror_mode": {
    "name": "ipython",
    "version": 3
   },
   "file_extension": ".py",
   "mimetype": "text/x-python",
   "name": "python",
   "nbconvert_exporter": "python",
   "pygments_lexer": "ipython3",
   "version": "3.7.13"
  },
  "orig_nbformat": 4,
  "vscode": {
   "interpreter": {
    "hash": "27bdde67765f6772953d18b51985d1757294e914b6c479d7fb4b4604d0e28375"
   }
  }
 },
 "nbformat": 4,
 "nbformat_minor": 2
}
