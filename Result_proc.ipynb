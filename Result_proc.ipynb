{
 "cells": [
  {
   "cell_type": "code",
   "execution_count": 29,
   "metadata": {},
   "outputs": [],
   "source": [
    "from lib import compute_metrics\n",
    "import pandas as pd\n",
    "from glob import glob\n",
    "\n",
    "region_rmse = pd.DataFrame(index=gt.columns)\n",
    "region_mae = pd.DataFrame(index=gt.columns)\n",
    "\n",
    "region_type = 'city'\n",
    "data_type = 'metric' # metric, diameter, degree\n",
    "hop=2\n",
    "duration = 707#540 # 707\n",
    "\n",
    "BASEPATH = glob(f'/Users/jeonjunhwi/문서/Projects/GNN_Covid/Result/1207_{duration}_true_{hop}hop/Pred/*')[0]\n",
    "\n",
    "network_dict = dict({\n",
    "                     'corr': [0.2, 0.4, 0.6],\n",
    "                     'dist_01': [0.6, 0.7, 0.8],\n",
    "                     'dist_02': [1, 2]})\n",
    "\n",
    "for MODEL in ['GCN', 'STGCN', 'DCRNN']:\n",
    "    for graph_type in ['dist_01', 'dist_02', 'corr']:\n",
    "        for norm in network_dict[graph_type]:\n",
    "\n",
    "            pred_20 = pd.read_csv(BASEPATH + f'/{MODEL}_{graph_type}_{norm}_1st/{graph_type}_{region_type}_{norm}_predict_20.csv', encoding='cp949', index_col=0) # degree : region, metric : 0, diameter : SGG_NM\n",
    "            gt = pd.read_csv(BASEPATH + f'/{MODEL}_{graph_type}_{norm}_1st/ground_truth.csv', encoding='cp949', index_col=0) # degree : region, metric : 0, diameter : SGG_NM\n",
    "\n",
    "            rmse, _ = compute_metrics(gt.iloc[:20], pred_20, metric='rmse')\n",
    "            mae, _ = compute_metrics(gt.iloc[:20], pred_20, metric='rmse')\n",
    "\n",
    "            region_rmse[f'{graph_type}_{norm}'] = rmse\n",
    "            region_mae[f'{graph_type}_{norm}'] = mae\n",
    "\n",
    "    region_rmse.to_csv(f'final_result/{MODEL}_region_rmse_{duration}_{hop}hop.csv', encoding='cp949')\n",
    "    region_mae.to_csv(f'final_result/{MODEL}_region_mae_{duration}_{hop}hop.csv', encoding='cp949')"
   ]
  },
  {
   "cell_type": "code",
   "execution_count": 24,
   "metadata": {},
   "outputs": [],
   "source": []
  },
  {
   "cell_type": "code",
   "execution_count": null,
   "metadata": {},
   "outputs": [],
   "source": []
  }
 ],
 "metadata": {
  "kernelspec": {
   "display_name": "Python 3.7.13 ('venvGNN')",
   "language": "python",
   "name": "python3"
  },
  "language_info": {
   "codemirror_mode": {
    "name": "ipython",
    "version": 3
   },
   "file_extension": ".py",
   "mimetype": "text/x-python",
   "name": "python",
   "nbconvert_exporter": "python",
   "pygments_lexer": "ipython3",
   "version": "3.7.13"
  },
  "orig_nbformat": 4,
  "vscode": {
   "interpreter": {
    "hash": "27bdde67765f6772953d18b51985d1757294e914b6c479d7fb4b4604d0e28375"
   }
  }
 },
 "nbformat": 4,
 "nbformat_minor": 2
}
